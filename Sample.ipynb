{
 "cells": [
  {
   "cell_type": "markdown",
   "metadata": {},
   "source": [
    "# Credit Card Fraud Prediction Models\n",
    "### *By Alexa Li*"
   ]
  },
  {
   "cell_type": "markdown",
   "metadata": {},
   "source": [
    "## Project Overview\n",
    "\n",
    "- ***Explore Data***: Perform exploratory analysis, plot variable distributions and scale the feature if necessary\n",
    "\n",
    "- ***Model Development***: Split data into train and test; build and tune logistic regression and decision tree using both original and oversampled training dataset\n",
    "    - *Improve Logistic Regression*: Tune parameter C to specify the regularization and choose the best model based on recall\n",
    "    - *Improve Decision Tree*: Tune parameters criterion, max_depth, max_features and min_samples_split to minimize misclassification, maximize information gain while avoid over-fitting and/or under-fitting. Choose the best model based on recall.\n",
    "- ***Model Comparison***: The key metrics for evaluating the model is **Recall** and **ROC**, because it does not hurt if we find a case is bad when it is actually not. However, it will hurt vice versa. So it is neccesary to capture as many bad cases as we can find by leveraging the model. I use ROC to tell how much the model is capable of distinguishing between classes"
   ]
  },
  {
   "cell_type": "markdown",
   "metadata": {},
   "source": [
    "## Conclusion\n",
    "Logistic Regression Base and Logistic Regression SMOTE have the same recall (93%), which means 93% of the actual bad cases were correctly classified. Logistic Regression SMOTE has a better ROC (98% vs 97%), which means it works better accuracy as a classifier. Therefore our champion model is **Logistic Regression SMOTE**. "
   ]
  },
  {
   "cell_type": "markdown",
   "metadata": {},
   "source": [
    "## Explore Data"
   ]
  },
  {
   "cell_type": "code",
   "execution_count": 1,
   "metadata": {},
   "outputs": [],
   "source": [
    "import numpy as np\n",
    "import pandas as pd\n",
    "import matplotlib.pyplot as plt\n",
    "import seaborn as sns\n",
    "import scipy as sp\n",
    "%matplotlib inline"
   ]
  },
  {
   "cell_type": "code",
   "execution_count": 2,
   "metadata": {},
   "outputs": [
    {
     "data": {
      "text/html": [
       "<div>\n",
       "<style scoped>\n",
       "    .dataframe tbody tr th:only-of-type {\n",
       "        vertical-align: middle;\n",
       "    }\n",
       "\n",
       "    .dataframe tbody tr th {\n",
       "        vertical-align: top;\n",
       "    }\n",
       "\n",
       "    .dataframe thead th {\n",
       "        text-align: right;\n",
       "    }\n",
       "</style>\n",
       "<table border=\"1\" class=\"dataframe\">\n",
       "  <thead>\n",
       "    <tr style=\"text-align: right;\">\n",
       "      <th></th>\n",
       "      <th>V1</th>\n",
       "      <th>V2</th>\n",
       "      <th>V3</th>\n",
       "      <th>V4</th>\n",
       "      <th>V5</th>\n",
       "      <th>V6</th>\n",
       "      <th>bad_flag</th>\n",
       "    </tr>\n",
       "  </thead>\n",
       "  <tbody>\n",
       "    <tr>\n",
       "      <th>0</th>\n",
       "      <td>1.241518</td>\n",
       "      <td>0.317272</td>\n",
       "      <td>0.297462</td>\n",
       "      <td>0.634494</td>\n",
       "      <td>-0.864769</td>\n",
       "      <td>1.98</td>\n",
       "      <td>0</td>\n",
       "    </tr>\n",
       "    <tr>\n",
       "      <th>1</th>\n",
       "      <td>0.418615</td>\n",
       "      <td>1.512514</td>\n",
       "      <td>0.840490</td>\n",
       "      <td>-1.406947</td>\n",
       "      <td>0.346363</td>\n",
       "      <td>40.00</td>\n",
       "      <td>0</td>\n",
       "    </tr>\n",
       "    <tr>\n",
       "      <th>2</th>\n",
       "      <td>0.166944</td>\n",
       "      <td>-0.814257</td>\n",
       "      <td>-1.081547</td>\n",
       "      <td>0.416182</td>\n",
       "      <td>-0.869594</td>\n",
       "      <td>1.98</td>\n",
       "      <td>0</td>\n",
       "    </tr>\n",
       "    <tr>\n",
       "      <th>3</th>\n",
       "      <td>0.994426</td>\n",
       "      <td>-0.673374</td>\n",
       "      <td>0.304300</td>\n",
       "      <td>-0.763612</td>\n",
       "      <td>1.174625</td>\n",
       "      <td>118.91</td>\n",
       "      <td>0</td>\n",
       "    </tr>\n",
       "    <tr>\n",
       "      <th>4</th>\n",
       "      <td>0.295217</td>\n",
       "      <td>0.535843</td>\n",
       "      <td>1.514138</td>\n",
       "      <td>1.469108</td>\n",
       "      <td>1.157481</td>\n",
       "      <td>38.18</td>\n",
       "      <td>0</td>\n",
       "    </tr>\n",
       "  </tbody>\n",
       "</table>\n",
       "</div>"
      ],
      "text/plain": [
       "         V1        V2        V3        V4        V5      V6  bad_flag\n",
       "0  1.241518  0.317272  0.297462  0.634494 -0.864769    1.98         0\n",
       "1  0.418615  1.512514  0.840490 -1.406947  0.346363   40.00         0\n",
       "2  0.166944 -0.814257 -1.081547  0.416182 -0.869594    1.98         0\n",
       "3  0.994426 -0.673374  0.304300 -0.763612  1.174625  118.91         0\n",
       "4  0.295217  0.535843  1.514138  1.469108  1.157481   38.18         0"
      ]
     },
     "execution_count": 2,
     "metadata": {},
     "output_type": "execute_result"
    }
   ],
   "source": [
    "#Import data#\n",
    "#Check column names#\n",
    "\n",
    "raw_data = pd.read_csv(\"perf.csv\")\n",
    "raw_data.head()"
   ]
  },
  {
   "cell_type": "code",
   "execution_count": 3,
   "metadata": {},
   "outputs": [
    {
     "data": {
      "text/html": [
       "<div>\n",
       "<style scoped>\n",
       "    .dataframe tbody tr th:only-of-type {\n",
       "        vertical-align: middle;\n",
       "    }\n",
       "\n",
       "    .dataframe tbody tr th {\n",
       "        vertical-align: top;\n",
       "    }\n",
       "\n",
       "    .dataframe thead th {\n",
       "        text-align: right;\n",
       "    }\n",
       "</style>\n",
       "<table border=\"1\" class=\"dataframe\">\n",
       "  <thead>\n",
       "    <tr style=\"text-align: right;\">\n",
       "      <th></th>\n",
       "      <th>V1</th>\n",
       "      <th>V2</th>\n",
       "      <th>V3</th>\n",
       "      <th>V4</th>\n",
       "      <th>V5</th>\n",
       "      <th>V6</th>\n",
       "      <th>bad_flag</th>\n",
       "    </tr>\n",
       "  </thead>\n",
       "  <tbody>\n",
       "    <tr>\n",
       "      <th>count</th>\n",
       "      <td>4757.000000</td>\n",
       "      <td>4757.000000</td>\n",
       "      <td>4757.000000</td>\n",
       "      <td>4757.000000</td>\n",
       "      <td>4757.000000</td>\n",
       "      <td>4757.000000</td>\n",
       "      <td>4757.000000</td>\n",
       "    </tr>\n",
       "    <tr>\n",
       "      <th>mean</th>\n",
       "      <td>-0.021832</td>\n",
       "      <td>0.382216</td>\n",
       "      <td>-0.680365</td>\n",
       "      <td>0.435030</td>\n",
       "      <td>-0.226965</td>\n",
       "      <td>90.617133</td>\n",
       "      <td>0.103427</td>\n",
       "    </tr>\n",
       "    <tr>\n",
       "      <th>std</th>\n",
       "      <td>0.931497</td>\n",
       "      <td>1.722909</td>\n",
       "      <td>3.417666</td>\n",
       "      <td>2.114453</td>\n",
       "      <td>1.396661</td>\n",
       "      <td>243.662115</td>\n",
       "      <td>0.304547</td>\n",
       "    </tr>\n",
       "    <tr>\n",
       "      <th>min</th>\n",
       "      <td>-4.498945</td>\n",
       "      <td>-3.962664</td>\n",
       "      <td>-31.103685</td>\n",
       "      <td>-5.024097</td>\n",
       "      <td>-9.498746</td>\n",
       "      <td>0.000000</td>\n",
       "      <td>0.000000</td>\n",
       "    </tr>\n",
       "    <tr>\n",
       "      <th>25%</th>\n",
       "      <td>-0.583852</td>\n",
       "      <td>-0.685727</td>\n",
       "      <td>-1.222773</td>\n",
       "      <td>-0.781717</td>\n",
       "      <td>-0.606320</td>\n",
       "      <td>4.580000</td>\n",
       "      <td>0.000000</td>\n",
       "    </tr>\n",
       "    <tr>\n",
       "      <th>50%</th>\n",
       "      <td>0.029583</td>\n",
       "      <td>0.110976</td>\n",
       "      <td>0.053042</td>\n",
       "      <td>0.147959</td>\n",
       "      <td>-0.029911</td>\n",
       "      <td>21.970000</td>\n",
       "      <td>0.000000</td>\n",
       "    </tr>\n",
       "    <tr>\n",
       "      <th>75%</th>\n",
       "      <td>0.624549</td>\n",
       "      <td>0.983338</td>\n",
       "      <td>0.974063</td>\n",
       "      <td>1.060273</td>\n",
       "      <td>0.469778</td>\n",
       "      <td>82.920000</td>\n",
       "      <td>0.000000</td>\n",
       "    </tr>\n",
       "    <tr>\n",
       "      <th>max</th>\n",
       "      <td>2.861654</td>\n",
       "      <td>12.018913</td>\n",
       "      <td>3.620346</td>\n",
       "      <td>12.114672</td>\n",
       "      <td>4.243841</td>\n",
       "      <td>8790.260000</td>\n",
       "      <td>1.000000</td>\n",
       "    </tr>\n",
       "  </tbody>\n",
       "</table>\n",
       "</div>"
      ],
      "text/plain": [
       "                V1           V2           V3           V4           V5  \\\n",
       "count  4757.000000  4757.000000  4757.000000  4757.000000  4757.000000   \n",
       "mean     -0.021832     0.382216    -0.680365     0.435030    -0.226965   \n",
       "std       0.931497     1.722909     3.417666     2.114453     1.396661   \n",
       "min      -4.498945    -3.962664   -31.103685    -5.024097    -9.498746   \n",
       "25%      -0.583852    -0.685727    -1.222773    -0.781717    -0.606320   \n",
       "50%       0.029583     0.110976     0.053042     0.147959    -0.029911   \n",
       "75%       0.624549     0.983338     0.974063     1.060273     0.469778   \n",
       "max       2.861654    12.018913     3.620346    12.114672     4.243841   \n",
       "\n",
       "                V6     bad_flag  \n",
       "count  4757.000000  4757.000000  \n",
       "mean     90.617133     0.103427  \n",
       "std     243.662115     0.304547  \n",
       "min       0.000000     0.000000  \n",
       "25%       4.580000     0.000000  \n",
       "50%      21.970000     0.000000  \n",
       "75%      82.920000     0.000000  \n",
       "max    8790.260000     1.000000  "
      ]
     },
     "execution_count": 3,
     "metadata": {},
     "output_type": "execute_result"
    }
   ],
   "source": [
    "#Summary Stats#\n",
    "\n",
    "raw_data.describe()"
   ]
  },
  {
   "cell_type": "code",
   "execution_count": 4,
   "metadata": {},
   "outputs": [
    {
     "data": {
      "text/plain": [
       "V1          0\n",
       "V2          0\n",
       "V3          0\n",
       "V4          0\n",
       "V5          0\n",
       "V6          0\n",
       "bad_flag    0\n",
       "dtype: int64"
      ]
     },
     "execution_count": 4,
     "metadata": {},
     "output_type": "execute_result"
    }
   ],
   "source": [
    "#Check missing values for each variable#\n",
    "\n",
    "raw_data.isnull().sum()"
   ]
  },
  {
   "cell_type": "code",
   "execution_count": 5,
   "metadata": {},
   "outputs": [
    {
     "name": "stdout",
     "output_type": "stream",
     "text": [
      "0    4265\n",
      "1     492\n",
      "Name: bad_flag, dtype: int64\n",
      "0    89.66\n",
      "1    10.34\n",
      "Name: bad_flag, dtype: float64\n"
     ]
    }
   ],
   "source": [
    "#Freq Table by Target Variable 'bad_flag'#\n",
    "\n",
    "#Freq#\n",
    "f = raw_data['bad_flag'].value_counts()\n",
    "\n",
    "#Percentage#\n",
    "p = raw_data['bad_flag'].value_counts(normalize = True).mul(100).round(2)\n",
    "\n",
    "print(f)\n",
    "print(p)"
   ]
  },
  {
   "cell_type": "code",
   "execution_count": 6,
   "metadata": {},
   "outputs": [
    {
     "data": {
      "text/plain": [
       "<matplotlib.axes._subplots.AxesSubplot at 0x243a12c0048>"
      ]
     },
     "execution_count": 6,
     "metadata": {},
     "output_type": "execute_result"
    },
    {
     "data": {
      "image/png": "[encoded data removed]",
      "text/plain": [
       "<Figure size 432x288 with 1 Axes>"
      ]
     },
     "metadata": {
      "needs_background": "light"
     },
     "output_type": "display_data"
    }
   ],
   "source": [
    "#Plot arget Variable\n",
    "\n",
    "sns.countplot(raw_data['bad_flag'])"
   ]
  },
  {
   "cell_type": "code",
   "execution_count": 7,
   "metadata": {},
   "outputs": [
    {
     "data": {
      "text/plain": [
       "<matplotlib.axes._subplots.AxesSubplot at 0x243a1a55908>"
      ]
     },
     "execution_count": 7,
     "metadata": {},
     "output_type": "execute_result"
    },
    {
     "data": {
      "image/png": "[encoded data removed]",
      "text/plain": [
       "<Figure size 432x288 with 1 Axes>"
      ]
     },
     "metadata": {
      "needs_background": "light"
     },
     "output_type": "display_data"
    }
   ],
   "source": [
    "#Check variable distirbutions for V1\n",
    "sns.distplot(raw_data['V1'])"
   ]
  },
  {
   "cell_type": "code",
   "execution_count": 8,
   "metadata": {},
   "outputs": [
    {
     "data": {
      "text/plain": [
       "<matplotlib.axes._subplots.AxesSubplot at 0x243a1b89988>"
      ]
     },
     "execution_count": 8,
     "metadata": {},
     "output_type": "execute_result"
    },
    {
     "data": {
      "image/png": "[encoded data removed]",
      "text/plain": [
       "<Figure size 432x288 with 1 Axes>"
      ]
     },
     "metadata": {
      "needs_background": "light"
     },
     "output_type": "display_data"
    }
   ],
   "source": [
    "#Check variable distirbutions for V2\n",
    "sns.distplot(raw_data['V2'])"
   ]
  },
  {
   "cell_type": "code",
   "execution_count": 9,
   "metadata": {},
   "outputs": [
    {
     "data": {
      "text/plain": [
       "<matplotlib.axes._subplots.AxesSubplot at 0x243a1ca2c48>"
      ]
     },
     "execution_count": 9,
     "metadata": {},
     "output_type": "execute_result"
    },
    {
     "data": {
      "image/png": "[encoded data removed]",
      "text/plain": [
       "<Figure size 432x288 with 1 Axes>"
      ]
     },
     "metadata": {
      "needs_background": "light"
     },
     "output_type": "display_data"
    }
   ],
   "source": [
    "#Check variable distirbutions for V3\n",
    "sns.distplot(raw_data['V3'])"
   ]
  },
  {
   "cell_type": "code",
   "execution_count": 10,
   "metadata": {},
   "outputs": [
    {
     "data": {
      "text/plain": [
       "<matplotlib.axes._subplots.AxesSubplot at 0x243a1d89dc8>"
      ]
     },
     "execution_count": 10,
     "metadata": {},
     "output_type": "execute_result"
    },
    {
     "data": {
      "image/png": "[encoded data removed]",
      "text/plain": [
       "<Figure size 432x288 with 1 Axes>"
      ]
     },
     "metadata": {
      "needs_background": "light"
     },
     "output_type": "display_data"
    }
   ],
   "source": [
    "#Check variable distirbutions for V4\n",
    "sns.distplot(raw_data['V4'])"
   ]
  },
  {
   "cell_type": "code",
   "execution_count": 11,
   "metadata": {},
   "outputs": [
    {
     "data": {
      "text/plain": [
       "<matplotlib.axes._subplots.AxesSubplot at 0x243a1e97188>"
      ]
     },
     "execution_count": 11,
     "metadata": {},
     "output_type": "execute_result"
    },
    {
     "data": {
      "image/png": "[encoded data removed]",
      "text/plain": [
       "<Figure size 432x288 with 1 Axes>"
      ]
     },
     "metadata": {
      "needs_background": "light"
     },
     "output_type": "display_data"
    }
   ],
   "source": [
    "#Check variable distirbutions for V5\n",
    "sns.distplot(raw_data['V5'])"
   ]
  },
  {
   "cell_type": "code",
   "execution_count": 12,
   "metadata": {},
   "outputs": [
    {
     "data": {
      "text/plain": [
       "<matplotlib.axes._subplots.AxesSubplot at 0x243a1f84448>"
      ]
     },
     "execution_count": 12,
     "metadata": {},
     "output_type": "execute_result"
    },
    {
     "data": {
      "image/png": "[encoded data removed]",
      "text/plain": [
       "<Figure size 432x288 with 1 Axes>"
      ]
     },
     "metadata": {
      "needs_background": "light"
     },
     "output_type": "display_data"
    }
   ],
   "source": [
    "#Check variable distirbutions for V6\n",
    "sns.distplot(raw_data['V6'])"
   ]
  },
  {
   "cell_type": "markdown",
   "metadata": {},
   "source": [
    "**Based on the information above, we learned:**\n",
    "\n",
    "- There is no missing value in the data so we do not have to impute missing value.\n",
    "- V6 does not follow normal distribution. we need to make feature scaling for V6.\n",
    "- Based on the barchart for target variable *bad_flag*, this is an imbalanced dataset. Only 10.34% of the cases are bad. The resampling method is necessary to make a good model."
   ]
  },
  {
   "cell_type": "markdown",
   "metadata": {},
   "source": [
    "## Feature Scaling"
   ]
  },
  {
   "cell_type": "code",
   "execution_count": 13,
   "metadata": {},
   "outputs": [],
   "source": [
    "from sklearn.preprocessing import StandardScaler"
   ]
  },
  {
   "cell_type": "code",
   "execution_count": 14,
   "metadata": {},
   "outputs": [
    {
     "data": {
      "text/html": [
       "<div>\n",
       "<style scoped>\n",
       "    .dataframe tbody tr th:only-of-type {\n",
       "        vertical-align: middle;\n",
       "    }\n",
       "\n",
       "    .dataframe tbody tr th {\n",
       "        vertical-align: top;\n",
       "    }\n",
       "\n",
       "    .dataframe thead th {\n",
       "        text-align: right;\n",
       "    }\n",
       "</style>\n",
       "<table border=\"1\" class=\"dataframe\">\n",
       "  <thead>\n",
       "    <tr style=\"text-align: right;\">\n",
       "      <th></th>\n",
       "      <th>V1</th>\n",
       "      <th>V2</th>\n",
       "      <th>V3</th>\n",
       "      <th>V4</th>\n",
       "      <th>V5</th>\n",
       "      <th>bad_flag</th>\n",
       "      <th>transV6</th>\n",
       "    </tr>\n",
       "  </thead>\n",
       "  <tbody>\n",
       "    <tr>\n",
       "      <th>0</th>\n",
       "      <td>1.241518</td>\n",
       "      <td>0.317272</td>\n",
       "      <td>0.297462</td>\n",
       "      <td>0.634494</td>\n",
       "      <td>-0.864769</td>\n",
       "      <td>0</td>\n",
       "      <td>-0.363809</td>\n",
       "    </tr>\n",
       "    <tr>\n",
       "      <th>1</th>\n",
       "      <td>0.418615</td>\n",
       "      <td>1.512514</td>\n",
       "      <td>0.840490</td>\n",
       "      <td>-1.406947</td>\n",
       "      <td>0.346363</td>\n",
       "      <td>0</td>\n",
       "      <td>-0.207757</td>\n",
       "    </tr>\n",
       "    <tr>\n",
       "      <th>2</th>\n",
       "      <td>0.166944</td>\n",
       "      <td>-0.814257</td>\n",
       "      <td>-1.081547</td>\n",
       "      <td>0.416182</td>\n",
       "      <td>-0.869594</td>\n",
       "      <td>0</td>\n",
       "      <td>-0.363809</td>\n",
       "    </tr>\n",
       "    <tr>\n",
       "      <th>3</th>\n",
       "      <td>0.994426</td>\n",
       "      <td>-0.673374</td>\n",
       "      <td>0.304300</td>\n",
       "      <td>-0.763612</td>\n",
       "      <td>1.174625</td>\n",
       "      <td>0</td>\n",
       "      <td>0.116127</td>\n",
       "    </tr>\n",
       "    <tr>\n",
       "      <th>4</th>\n",
       "      <td>0.295217</td>\n",
       "      <td>0.535843</td>\n",
       "      <td>1.514138</td>\n",
       "      <td>1.469108</td>\n",
       "      <td>1.157481</td>\n",
       "      <td>0</td>\n",
       "      <td>-0.215227</td>\n",
       "    </tr>\n",
       "  </tbody>\n",
       "</table>\n",
       "</div>"
      ],
      "text/plain": [
       "         V1        V2        V3        V4        V5  bad_flag   transV6\n",
       "0  1.241518  0.317272  0.297462  0.634494 -0.864769         0 -0.363809\n",
       "1  0.418615  1.512514  0.840490 -1.406947  0.346363         0 -0.207757\n",
       "2  0.166944 -0.814257 -1.081547  0.416182 -0.869594         0 -0.363809\n",
       "3  0.994426 -0.673374  0.304300 -0.763612  1.174625         0  0.116127\n",
       "4  0.295217  0.535843  1.514138  1.469108  1.157481         0 -0.215227"
      ]
     },
     "execution_count": 14,
     "metadata": {},
     "output_type": "execute_result"
    }
   ],
   "source": [
    "#Transform V6 AS transV6#\n",
    "#Drop V6#\n",
    "\n",
    "raw_data['transV6'] = StandardScaler().fit_transform(raw_data['V6'].values.reshape(-1,1))\n",
    "data = raw_data.drop(['V6'], axis = 1)\n",
    "data.head()"
   ]
  },
  {
   "cell_type": "markdown",
   "metadata": {},
   "source": [
    "## Build Models"
   ]
  },
  {
   "cell_type": "markdown",
   "metadata": {},
   "source": [
    "In this step, I will build decision tree and logistic regression using train and test data split. I will first split the dataset as training and build the base model, then try oversampling to compare with the base. My hypothesis is oversampling will give better performance because a larger dataset input would make the model more robust and stable. "
   ]
  },
  {
   "cell_type": "markdown",
   "metadata": {},
   "source": [
    "### Train test data split"
   ]
  },
  {
   "cell_type": "code",
   "execution_count": 15,
   "metadata": {},
   "outputs": [],
   "source": [
    "from sklearn.model_selection import train_test_split"
   ]
  },
  {
   "cell_type": "code",
   "execution_count": 16,
   "metadata": {},
   "outputs": [],
   "source": [
    "x = data.drop('bad_flag', axis = 1)\n",
    "y = data['bad_flag']"
   ]
  },
  {
   "cell_type": "code",
   "execution_count": 17,
   "metadata": {},
   "outputs": [],
   "source": [
    "x_train, x_test, y_train, y_test = train_test_split(x, y, test_size=0.30, random_state = 1234)"
   ]
  },
  {
   "cell_type": "markdown",
   "metadata": {},
   "source": [
    "### Logistic Regression (Base)"
   ]
  },
  {
   "cell_type": "code",
   "execution_count": 18,
   "metadata": {},
   "outputs": [],
   "source": [
    "#Build Model and Tune Parameters#\n",
    "\n",
    "from sklearn.linear_model import LogisticRegression\n",
    "from sklearn.model_selection import GridSearchCV\n",
    "from sklearn.metrics import classification_report, confusion_matrix, recall_score, make_scorer, precision_recall_curve"
   ]
  },
  {
   "cell_type": "markdown",
   "metadata": {},
   "source": [
    "- **Improve Logistic Regression by Grid Search**\n",
    "\n",
    "Grid search builds a model for every combination of hyperparameters specified and evaluates each model. Here I use Grid Search to maximize Recall. The parameter I tuned is C, which is inverse of regularization strength - smaller values of C specify stronger regularization."
   ]
  },
  {
   "cell_type": "code",
   "execution_count": 19,
   "metadata": {},
   "outputs": [],
   "source": [
    "#Build grid#\n",
    "\n",
    "recall_score = make_scorer(recall_score)\n",
    "\n",
    "logit_search = GridSearchCV(LogisticRegression(solver = 'liblinear'), param_grid = {'C':[0.1, 0.3, 1, 3, 10, 30, 100]}, scoring = recall_score)"
   ]
  },
  {
   "cell_type": "code",
   "execution_count": 20,
   "metadata": {},
   "outputs": [
    {
     "data": {
      "text/plain": [
       "GridSearchCV(cv=None, error_score=nan,\n",
       "             estimator=LogisticRegression(C=1.0, class_weight=None, dual=False,\n",
       "                                          fit_intercept=True,\n",
       "                                          intercept_scaling=1, l1_ratio=None,\n",
       "                                          max_iter=100, multi_class='auto',\n",
       "                                          n_jobs=None, penalty='l2',\n",
       "                                          random_state=None, solver='liblinear',\n",
       "                                          tol=0.0001, verbose=0,\n",
       "                                          warm_start=False),\n",
       "             iid='deprecated', n_jobs=None,\n",
       "             param_grid={'C': [0.1, 0.3, 1, 3, 10, 30, 100]},\n",
       "             pre_dispatch='2*n_jobs', refit=True, return_train_score=False,\n",
       "             scoring=make_scorer(recall_score), verbose=0)"
      ]
     },
     "execution_count": 20,
     "metadata": {},
     "output_type": "execute_result"
    }
   ],
   "source": [
    "#Find the best model based on Recall#\n",
    "\n",
    "logit_search.fit(x_train, y_train)"
   ]
  },
  {
   "cell_type": "code",
   "execution_count": 21,
   "metadata": {},
   "outputs": [
    {
     "data": {
      "text/plain": [
       "{'C': 0.3}"
      ]
     },
     "execution_count": 21,
     "metadata": {},
     "output_type": "execute_result"
    }
   ],
   "source": [
    "logit_search.best_params_"
   ]
  },
  {
   "cell_type": "code",
   "execution_count": 22,
   "metadata": {},
   "outputs": [],
   "source": [
    "logit_predictions = logit_search.predict(x_test)"
   ]
  },
  {
   "cell_type": "code",
   "execution_count": 23,
   "metadata": {},
   "outputs": [],
   "source": [
    "logit_prob = logit_search.predict_proba(X = x_test)[:,1]"
   ]
  },
  {
   "cell_type": "code",
   "execution_count": 24,
   "metadata": {},
   "outputs": [
    {
     "name": "stdout",
     "output_type": "stream",
     "text": [
      "              precision    recall  f1-score   support\n",
      "\n",
      "           0       0.98      1.00      0.99      1280\n",
      "           1       0.96      0.82      0.88       148\n",
      "\n",
      "    accuracy                           0.98      1428\n",
      "   macro avg       0.97      0.91      0.94      1428\n",
      "weighted avg       0.98      0.98      0.98      1428\n",
      "\n"
     ]
    }
   ],
   "source": [
    "print(classification_report(y_test, logit_predictions))"
   ]
  },
  {
   "cell_type": "markdown",
   "metadata": {},
   "source": [
    "### Decision Tree (Base)"
   ]
  },
  {
   "cell_type": "code",
   "execution_count": 25,
   "metadata": {},
   "outputs": [],
   "source": [
    "from sklearn.tree import DecisionTreeClassifier\n",
    "from sklearn.ensemble import RandomForestClassifier\n",
    "from sklearn.svm import SVC\n",
    "from sklearn.model_selection import RandomizedSearchCV"
   ]
  },
  {
   "cell_type": "markdown",
   "metadata": {},
   "source": [
    "- **Improve Decision Tree by Tuning the following parameters**:\n",
    "    - ***criterion***: using gini and entropy to measure the quality of the split, gini gives an idea of how good a split is by how mixed the classes are in the two groups created by the split. A perfect separation results in a Gini score of 0. Entropy decides the information gain, it is a measure of disorder or uncertainty. High entropy means high level of disorder \n",
    "    - ***max_depth***: the depth parameter is one of the ways in which we can regularize the tree, or limit the way it grows to prevent over-fitting\n",
    "    - ***max_feature***: avoid under-fitting and/or overfitting\n",
    "    - ***min_samples_split***: when increasing this parameter, the tree becomes more constrained as it has to consider more samples at each node"
   ]
  },
  {
   "cell_type": "code",
   "execution_count": 26,
   "metadata": {},
   "outputs": [],
   "source": [
    "dtree = DecisionTreeClassifier()\n",
    "\n",
    "dtree_param = {\"criterion\": [\"gini\", \"entropy\"],\n",
    "               \"max_depth\": [3, None],\n",
    "              \"max_features\": sp.stats.randint(1, 6),\n",
    "              \"min_samples_split\": sp.stats.randint(2, 14),\n",
    "              }\n",
    "\n",
    "dtree_search = RandomizedSearchCV(dtree, param_distributions = dtree_param,  scoring = recall_score)"
   ]
  },
  {
   "cell_type": "code",
   "execution_count": 27,
   "metadata": {},
   "outputs": [
    {
     "data": {
      "text/plain": [
       "RandomizedSearchCV(cv=None, error_score=nan,\n",
       "                   estimator=DecisionTreeClassifier(ccp_alpha=0.0,\n",
       "                                                    class_weight=None,\n",
       "                                                    criterion='gini',\n",
       "                                                    max_depth=None,\n",
       "                                                    max_features=None,\n",
       "                                                    max_leaf_nodes=None,\n",
       "                                                    min_impurity_decrease=0.0,\n",
       "                                                    min_impurity_split=None,\n",
       "                                                    min_samples_leaf=1,\n",
       "                                                    min_samples_split=2,\n",
       "                                                    min_weight_fraction_leaf=0.0,\n",
       "                                                    presort='deprecated',\n",
       "                                                    random_state=None,\n",
       "                                                    splitter='best'...\n",
       "                   param_distributions={'criterion': ['gini', 'entropy'],\n",
       "                                        'max_depth': [3, None],\n",
       "                                        'max_features': <scipy.stats._distn_infrastructure.rv_frozen object at 0x00000243A2582148>,\n",
       "                                        'min_samples_split': <scipy.stats._distn_infrastructure.rv_frozen object at 0x00000243A2582308>},\n",
       "                   pre_dispatch='2*n_jobs', random_state=None, refit=True,\n",
       "                   return_train_score=False, scoring=make_scorer(recall_score),\n",
       "                   verbose=0)"
      ]
     },
     "execution_count": 27,
     "metadata": {},
     "output_type": "execute_result"
    }
   ],
   "source": [
    "dtree_search.fit(x_train,y_train)"
   ]
  },
  {
   "cell_type": "code",
   "execution_count": 28,
   "metadata": {},
   "outputs": [
    {
     "data": {
      "text/plain": [
       "{'criterion': 'entropy',\n",
       " 'max_depth': None,\n",
       " 'max_features': 5,\n",
       " 'min_samples_split': 13}"
      ]
     },
     "execution_count": 28,
     "metadata": {},
     "output_type": "execute_result"
    }
   ],
   "source": [
    "dtree_search.best_params_"
   ]
  },
  {
   "cell_type": "code",
   "execution_count": 29,
   "metadata": {},
   "outputs": [],
   "source": [
    "dtree_predictions = dtree_search.predict(x_test)"
   ]
  },
  {
   "cell_type": "code",
   "execution_count": 30,
   "metadata": {},
   "outputs": [],
   "source": [
    "dtree_prob = dtree_search.predict_proba(x_test)[:,1]"
   ]
  },
  {
   "cell_type": "code",
   "execution_count": 31,
   "metadata": {},
   "outputs": [
    {
     "name": "stdout",
     "output_type": "stream",
     "text": [
      "              precision    recall  f1-score   support\n",
      "\n",
      "           0       0.98      0.98      0.98      1280\n",
      "           1       0.84      0.84      0.84       148\n",
      "\n",
      "    accuracy                           0.97      1428\n",
      "   macro avg       0.91      0.91      0.91      1428\n",
      "weighted avg       0.97      0.97      0.97      1428\n",
      "\n"
     ]
    }
   ],
   "source": [
    "print(classification_report(y_test, dtree_predictions))"
   ]
  },
  {
   "cell_type": "markdown",
   "metadata": {},
   "source": [
    "### ROC Curve & Precision - Recall Curve\n",
    "*Plot ROC Curve & Precision - Recall Curve for the models we have built so far.*"
   ]
  },
  {
   "cell_type": "code",
   "execution_count": 32,
   "metadata": {},
   "outputs": [],
   "source": [
    "from sklearn.metrics import roc_curve, roc_auc_score, auc, precision_recall_curve"
   ]
  },
  {
   "cell_type": "code",
   "execution_count": 33,
   "metadata": {},
   "outputs": [],
   "source": [
    "models = [\n",
    "    {'label':'Logistic Regression',\n",
    "     'fpr': roc_curve(y_test,logit_prob)[0],\n",
    "     'tpr': roc_curve(y_test,logit_prob)[1],\n",
    "     'auc': auc(roc_curve(y_test,logit_prob)[0], roc_curve(y_test,logit_prob)[1]),\n",
    "     'precision': precision_recall_curve(y_test,logit_prob)[0],\n",
    "     'recall': precision_recall_curve(y_test,logit_prob)[1],\n",
    "     'pr-auc': auc(precision_recall_curve(y_test,logit_prob)[1], precision_recall_curve(y_test,logit_prob)[0])\n",
    "    },\n",
    "    {\n",
    "     'label':'Decision Tree',\n",
    "     'fpr': roc_curve(y_test,dtree_prob)[0],\n",
    "     'tpr': roc_curve(y_test,dtree_prob)[1],\n",
    "     'auc': auc(roc_curve(y_test,dtree_prob)[0], roc_curve(y_test,dtree_prob)[1]),\n",
    "     'precision': precision_recall_curve(y_test,dtree_prob)[0],\n",
    "     'recall': precision_recall_curve(y_test,dtree_prob)[1],\n",
    "     'pr-auc': auc(precision_recall_curve(y_test,dtree_prob)[1], precision_recall_curve(y_test,dtree_prob)[0])\n",
    "    }\n",
    "]"
   ]
  },
  {
   "cell_type": "code",
   "execution_count": 34,
   "metadata": {},
   "outputs": [
    {
     "data": {
      "text/plain": [
       "<matplotlib.legend.Legend at 0x243a25e4848>"
      ]
     },
     "execution_count": 34,
     "metadata": {},
     "output_type": "execute_result"
    },
    {
     "data": {
      "text/plain": [
       "<Figure size 432x288 with 0 Axes>"
      ]
     },
     "metadata": {},
     "output_type": "display_data"
    },
    {
     "data": {
      "image/png": "[encoded data removed]",
      "text/plain": [
       "<Figure size 576x432 with 1 Axes>"
      ]
     },
     "metadata": {
      "needs_background": "light"
     },
     "output_type": "display_data"
    }
   ],
   "source": [
    "plt.clf()\n",
    "plt.figure(figsize = (8,6))\n",
    "\n",
    "for m in models:\n",
    "    plt.plot(m['fpr'], m['tpr'], label = '%s ROC (area = %0.2f)' % (m['label'], m['auc']))\n",
    "    \n",
    "plt.plot([0, 1], [0, 1], 'k--')\n",
    "plt.xlim([0.0, 1.0])\n",
    "plt.ylim([0.0, 1.0])\n",
    "plt.xlabel('False Positive Rate')\n",
    "plt.ylabel('True Positive Rate')\n",
    "plt.legend(loc=0, fontsize='small')"
   ]
  },
  {
   "cell_type": "code",
   "execution_count": 35,
   "metadata": {},
   "outputs": [
    {
     "data": {
      "text/plain": [
       "<matplotlib.legend.Legend at 0x243a2659248>"
      ]
     },
     "execution_count": 35,
     "metadata": {},
     "output_type": "execute_result"
    },
    {
     "data": {
      "text/plain": [
       "<Figure size 432x288 with 0 Axes>"
      ]
     },
     "metadata": {},
     "output_type": "display_data"
    },
    {
     "data": {
      "image/png": "[encoded data removed]",
      "text/plain": [
       "<Figure size 576x432 with 1 Axes>"
      ]
     },
     "metadata": {
      "needs_background": "light"
     },
     "output_type": "display_data"
    }
   ],
   "source": [
    "plt.clf()\n",
    "plt.figure(figsize = (8,6))\n",
    "\n",
    "for m in models:\n",
    "    plt.plot(m['recall'], m['precision'], label = '%s precision-recall (area = %0.2f)' % (m['label'], m['pr-auc']))\n",
    "    \n",
    "plt.xlim([0.0, 1.0])\n",
    "plt.ylim([0.0, 1.0])\n",
    "plt.xlabel('Recall')\n",
    "plt.ylabel('Precision')\n",
    "plt.legend(loc = 0, fontsize = 'small')"
   ]
  },
  {
   "cell_type": "markdown",
   "metadata": {},
   "source": [
    "### Oversampling by SMOTE"
   ]
  },
  {
   "cell_type": "markdown",
   "metadata": {},
   "source": [
    "Now I will try oversampling (duplicate minority examples) and build models to compare performance. The issue with this approach is that the decision boundary will be more specific and hence might cause over-fitting.\n",
    "\n",
    "Therefore, I will use a very popular sampling method named SMOTE (Synthetic Minority Over-Sampling Technique). The advantage of SMOTE is that it is creating synthetic examples of minority class so the decision boundary is more general."
   ]
  },
  {
   "cell_type": "code",
   "execution_count": 46,
   "metadata": {},
   "outputs": [],
   "source": [
    "from imblearn.over_sampling import SMOTE"
   ]
  },
  {
   "cell_type": "code",
   "execution_count": 37,
   "metadata": {},
   "outputs": [],
   "source": [
    "#Oversample the minority class by 400% to reach to a more balanced dataset#\n",
    "\n",
    "train_data = x_train.copy()\n",
    "train_data['bad_flag'] = y_train\n",
    "bad_data = train_data[train_data['bad_flag'] == 1]\n",
    "bad_size = len(bad_data)"
   ]
  },
  {
   "cell_type": "code",
   "execution_count": 38,
   "metadata": {},
   "outputs": [],
   "source": [
    "minor_size = bad_size * 4\n",
    "non_bad_data = train_data[train_data['bad_flag'] == 0].sample(n = minor_size, random_state = 101)\n",
    "SMOTE_data = pd.concat([bad_data, non_bad_data])\n",
    "SMOTE_x = SMOTE_data.drop('bad_flag', axis = 1)\n",
    "SMOTE_y = SMOTE_data['bad_flag']"
   ]
  },
  {
   "cell_type": "markdown",
   "metadata": {},
   "source": [
    "## Build Models (Oversampling)\n",
    "*Build logistic regression and decision tree using oversampled data*"
   ]
  },
  {
   "cell_type": "markdown",
   "metadata": {},
   "source": [
    "### Train & Test Data Split"
   ]
  },
  {
   "cell_type": "code",
   "execution_count": 39,
   "metadata": {},
   "outputs": [],
   "source": [
    "SMOTE_x_train = SMOTE_x\n",
    "SMOTE_x_test = x_test\n",
    "SMOTE_y_train = SMOTE_y\n",
    "SMOTE_y_test = y_test"
   ]
  },
  {
   "cell_type": "markdown",
   "metadata": {},
   "source": [
    "### Logistic Regression"
   ]
  },
  {
   "cell_type": "code",
   "execution_count": 40,
   "metadata": {},
   "outputs": [
    {
     "name": "stdout",
     "output_type": "stream",
     "text": [
      "              precision    recall  f1-score   support\n",
      "\n",
      "           0       0.98      0.99      0.99      1280\n",
      "           1       0.91      0.86      0.89       148\n",
      "\n",
      "    accuracy                           0.98      1428\n",
      "   macro avg       0.95      0.92      0.94      1428\n",
      "weighted avg       0.98      0.98      0.98      1428\n",
      "\n"
     ]
    }
   ],
   "source": [
    "SMOTE_logit = GridSearchCV(LogisticRegression(solver = 'liblinear'), param_grid = {'C':[0.1, 0.3, 1, 3, 10, 30, 100]}, scoring = recall_score)\n",
    "SMOTE_logit.fit(SMOTE_x_train,SMOTE_y_train)\n",
    "SMOTE_logit_predictions = SMOTE_logit.predict(SMOTE_x_test)\n",
    "SMOTE_logit_prob = SMOTE_logit.predict_proba(SMOTE_x_test)[:,1]\n",
    "\n",
    "print(classification_report(SMOTE_y_test, SMOTE_logit_predictions))"
   ]
  },
  {
   "cell_type": "markdown",
   "metadata": {},
   "source": [
    "### Decision Tree"
   ]
  },
  {
   "cell_type": "code",
   "execution_count": 41,
   "metadata": {},
   "outputs": [
    {
     "name": "stdout",
     "output_type": "stream",
     "text": [
      "              precision    recall  f1-score   support\n",
      "\n",
      "           0       0.98      0.97      0.98      1280\n",
      "           1       0.76      0.83      0.80       148\n",
      "\n",
      "    accuracy                           0.96      1428\n",
      "   macro avg       0.87      0.90      0.89      1428\n",
      "weighted avg       0.96      0.96      0.96      1428\n",
      "\n"
     ]
    }
   ],
   "source": [
    "SMOTE_dtree = RandomizedSearchCV(dtree, param_distributions = dtree_param, scoring = recall_score)\n",
    "SMOTE_dtree.fit(SMOTE_x_train, SMOTE_y_train)\n",
    "SMOTE_dtree_predictions = SMOTE_dtree.predict(SMOTE_x_test)\n",
    "SMOTE_dtree_prob = SMOTE_dtree.predict_proba(SMOTE_x_test)[:,1]\n",
    "\n",
    "print(classification_report(SMOTE_y_test, SMOTE_dtree_predictions))"
   ]
  },
  {
   "cell_type": "code",
   "execution_count": 42,
   "metadata": {},
   "outputs": [],
   "source": [
    "SMOTE_models = [\n",
    "    {'label':'Logistic Regression - SMOTE',\n",
    "     'fpr': roc_curve(SMOTE_y_test,SMOTE_logit_prob)[0],\n",
    "     'tpr': roc_curve(SMOTE_y_test,SMOTE_logit_prob)[1],\n",
    "     'auc': auc(roc_curve(SMOTE_y_test,SMOTE_logit_prob)[0], roc_curve(SMOTE_y_test,SMOTE_logit_prob)[1]),\n",
    "     'precision': precision_recall_curve(SMOTE_y_test,SMOTE_logit_prob)[0],\n",
    "     'recall': precision_recall_curve(SMOTE_y_test,SMOTE_logit_prob)[1],\n",
    "     'pr-auc': auc(precision_recall_curve(SMOTE_y_test,SMOTE_logit_prob)[1], precision_recall_curve(SMOTE_y_test,SMOTE_logit_prob)[0])\n",
    "    },\n",
    "    {\n",
    "     'label':'Decision Tree - SMOTE',\n",
    "     'fpr': roc_curve(SMOTE_y_test,SMOTE_dtree_prob)[0],\n",
    "     'tpr': roc_curve(SMOTE_y_test,SMOTE_dtree_prob)[1],\n",
    "     'auc': auc(roc_curve(SMOTE_y_test,SMOTE_dtree_prob)[0], roc_curve(SMOTE_y_test,SMOTE_dtree_prob)[1]),\n",
    "     'precision': precision_recall_curve(SMOTE_y_test,SMOTE_dtree_prob)[0],\n",
    "     'recall': precision_recall_curve(SMOTE_y_test,SMOTE_dtree_prob)[1],\n",
    "     'pr-auc': auc(precision_recall_curve(SMOTE_y_test,SMOTE_dtree_prob)[1], precision_recall_curve(SMOTE_y_test,SMOTE_dtree_prob)[0])  \n",
    "    }\n",
    "]"
   ]
  },
  {
   "cell_type": "markdown",
   "metadata": {},
   "source": [
    "## Combine Base and Oversampled Models for Comparison"
   ]
  },
  {
   "cell_type": "code",
   "execution_count": 43,
   "metadata": {},
   "outputs": [],
   "source": [
    "all_models = models + SMOTE_models"
   ]
  },
  {
   "cell_type": "markdown",
   "metadata": {},
   "source": [
    "### Plot ROC Curves & Precision - Recall Curves"
   ]
  },
  {
   "cell_type": "code",
   "execution_count": 44,
   "metadata": {},
   "outputs": [
    {
     "data": {
      "text/plain": [
       "<matplotlib.legend.Legend at 0x243a272e4c8>"
      ]
     },
     "execution_count": 44,
     "metadata": {},
     "output_type": "execute_result"
    },
    {
     "data": {
      "text/plain": [
       "<Figure size 432x288 with 0 Axes>"
      ]
     },
     "metadata": {},
     "output_type": "display_data"
    },
    {
     "data": {
      "image/png": "[encoded data removed]",
      "text/plain": [
       "<Figure size 576x432 with 1 Axes>"
      ]
     },
     "metadata": {
      "needs_background": "light"
     },
     "output_type": "display_data"
    }
   ],
   "source": [
    "plt.clf()\n",
    "plt.figure(figsize = (8,6))\n",
    "\n",
    "for m in all_models:\n",
    "    plt.plot(m['fpr'], m['tpr'], label = '%s ROC (area = %0.2f)' % (m['label'], m['auc']))\n",
    "    \n",
    "plt.plot([0, 1], [0, 1], 'k--')\n",
    "plt.xlim([0.0, 1.0])\n",
    "plt.ylim([0.0, 1.0])\n",
    "plt.xlabel('False Positive Rate')\n",
    "plt.ylabel('True Positive Rate')\n",
    "plt.legend(loc=0, fontsize='small')"
   ]
  },
  {
   "cell_type": "code",
   "execution_count": 45,
   "metadata": {},
   "outputs": [
    {
     "data": {
      "text/plain": [
       "<matplotlib.legend.Legend at 0x243a3779108>"
      ]
     },
     "execution_count": 45,
     "metadata": {},
     "output_type": "execute_result"
    },
    {
     "data": {
      "text/plain": [
       "<Figure size 432x288 with 0 Axes>"
      ]
     },
     "metadata": {},
     "output_type": "display_data"
    },
    {
     "data": {
      "image/png": "[encoded data removed]",
      "text/plain": [
       "<Figure size 576x432 with 1 Axes>"
      ]
     },
     "metadata": {
      "needs_background": "light"
     },
     "output_type": "display_data"
    }
   ],
   "source": [
    "plt.clf()\n",
    "plt.figure(figsize = (8,6))\n",
    "\n",
    "for m in all_models:\n",
    "    plt.plot(m['recall'], m['precision'], label = '%s precision-recall (area = %0.2f)' % (m['label'], m['pr-auc']))\n",
    "    \n",
    "plt.xlim([0.0, 1.0])\n",
    "plt.ylim([0.0, 1.0])\n",
    "plt.xlabel('Recall')\n",
    "plt.ylabel('Precision')\n",
    "plt.legend(loc=0, fontsize='small')"
   ]
  },
  {
   "cell_type": "markdown",
   "metadata": {},
   "source": [
    "## Conclusion\n",
    "Logistic Regression SMOTE is the champion model based on ROC and Recall."
   ]
  },
  {
   "cell_type": "code",
   "execution_count": null,
   "metadata": {},
   "outputs": [],
   "source": []
  }
 ],
 "metadata": {
  "kernelspec": {
   "display_name": "Python 3",
   "language": "python",
   "name": "python3"
  },
  "language_info": {
   "codemirror_mode": {
    "name": "ipython",
    "version": 3
   },
   "file_extension": ".py",
   "mimetype": "text/x-python",
   "name": "python",
   "nbconvert_exporter": "python",
   "pygments_lexer": "ipython3",
   "version": "3.7.6"
  }
 },
 "nbformat": 4,
 "nbformat_minor": 4
}
